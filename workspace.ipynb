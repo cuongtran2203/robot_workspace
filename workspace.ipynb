{
 "cells": [
  {
   "cell_type": "code",
   "execution_count": null,
   "metadata": {},
   "outputs": [],
   "source": [
    "import sympy as sy\n",
    "from IPython.display import display\n",
    "cp=1\n",
    "cy=1\n",
    "cr=1\n",
    "s_p=0\n",
    "s_y=0\n",
    "sr=0\n",
    "l0=2\n",
    "l1=4\n",
    "l2=10.5\n",
    "l3=10.5\n",
    "H=22.5\n",
    "W=24.5\n",
    "Cx,Cy,Cz=sy.symbols(\"Cx,Cy,Cz\",real=True)\n",
    "n1,n2=sy.symbols(\"n1,n2\",real=True)\n",
    "theta1,theta2,theta3=sy.symbols(\"theta1,theta2,theta3\",real=True)\n",
    "CA0=sy.Matrix([[cp*cy,cy*s_p*sr-cr*s_y,sr*s_y+cr*cy*s_p,Cx],[cp*s_y,cr*cy+cy*s_p*sr,cr*s_p*s_y-cy*sr,Cy],[-s_p,cp*sr,cp*cr,Cz],[0,0,0,1]])\n",
    "\n",
    "BA1=sy.Matrix([[sy.cos(theta1),-sy.sin(theta1),0,0],[sy.sin(theta1),sy.cos(theta1),0,0],[0,0,-l1,0],[0,0,0,1]])\n",
    "CAB=sy.Matrix([[1,0,0,n1*H/2],[0,1,0,n2*W/2],[0,0,1,-l0],[0,0,0,1]])\n",
    "M_A2=sy.Matrix([[sy.cos(theta2),0,-sy.sin(theta2),l2*sy.sin(theta2)],[0,1,0,0],[sy.sin(theta2),0,sy.cos(theta2),-l2*sy.cos(theta2)],[0,0,0,1]])\n",
    "N_A_3=sy.Matrix([[sy.cos(theta3),0,-sy.sin(theta3),l3*sy.sin(theta3)],[0,1,0,0],[sy.sin(theta3),0,sy.cos(theta3),-l3*sy.cos(theta3)],[0,0,0,1]])\n",
    "o_A_3=sy.simplify(CA0*BA1*CAB*M_A2*N_A_3)\n",
    "m=sy.Matrix([0,0,0,1])\n",
    "results=sy.simplify(o_A_3*m)\n",
    "display(results)\n"
   ]
  }
 ],
 "metadata": {
  "language_info": {
   "name": "python"
  },
  "orig_nbformat": 4
 },
 "nbformat": 4,
 "nbformat_minor": 2
}
